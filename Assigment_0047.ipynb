{
 "cells": [
  {
   "cell_type": "markdown",
   "metadata": {},
   "source": [
    "Q1. Create a python program to sort the given list of tuples based on integer value using a  lambda function.\n",
    "\n",
    "ans: here is an example:\n"
   ]
  },
  {
   "cell_type": "code",
   "execution_count": 2,
   "metadata": {},
   "outputs": [
    {
     "name": "stdout",
     "output_type": "stream",
     "text": [
      "[(1, 1), (1, 2), (3, 4), (5, 6), (7, 8)]\n"
     ]
    }
   ],
   "source": [
    "lst=[(1,2),(3,4),(1,1),(5,6),(7,8)]\n",
    "lst.sort(key=lambda x:x[1])\n",
    "print(lst)"
   ]
  },
  {
   "cell_type": "code",
   "execution_count": 8,
   "metadata": {},
   "outputs": [
    {
     "name": "stdout",
     "output_type": "stream",
     "text": [
      "[('Virat Kohli', 24936), ('Jack Kallis', 25534), ('Rickey ponting', 27483), ('sachin tendulkar', 34357)]\n"
     ]
    }
   ],
   "source": [
    "lst=[(\"sachin tendulkar\",34357),(\"Rickey ponting\",27483), (\"Jack Kallis\", 25534), (\"Virat Kohli\", 24936)]\n",
    "lst.sort(key=lambda x : x[1])\n",
    "print(lst)"
   ]
  },
  {
   "cell_type": "markdown",
   "metadata": {},
   "source": [
    "the above programe lambda x:x[1] is usrd to sort the list of tuple based on the second element of each tuple.\n",
    "here,x represents each tuple in the list and x[1] represent the second element of each tuple."
   ]
  },
  {
   "cell_type": "markdown",
   "metadata": {},
   "source": [
    "Q2. Write a Python Program to find the squares of all the numbers in the given list of integers using  lambda and map functions. \n",
    "[1, 2, 3, 4, 5, 6, 7, 8, 9, 10]\n",
    "\n",
    "ans:given below :\n",
    "\n"
   ]
  },
  {
   "cell_type": "code",
   "execution_count": null,
   "metadata": {},
   "outputs": [],
   "source": [
    "lst=[1,2,3,4,5,6,7,8,9,10]\n",
    "def sq(x):\n",
    "    return x**2\n",
    "list(map(sq,lst))"
   ]
  },
  {
   "cell_type": "code",
   "execution_count": null,
   "metadata": {},
   "outputs": [],
   "source": [
    "Q3. Write a python program to convert the given list of integers into a tuple of strings. Use map and  lambda functions \n",
    "Given String: [1, 2, 3, 4, 5, 6, 7, 8, 9, 10] \n",
    "Expected output: ('1', '2', '3', '4', '5', '6', '7', '8', '9', '10') \n",
    "\n",
    "ans: Here is the phython program to convert the given list of integers into a tuple of string using map and lambda\n",
    "     function :\n"
   ]
  },
  {
   "cell_type": "code",
   "execution_count": 11,
   "metadata": {},
   "outputs": [
    {
     "name": "stdout",
     "output_type": "stream",
     "text": [
      "('1', '2', '3', '4', '5', '6', '7', '8', '9', '10')\n"
     ]
    }
   ],
   "source": [
    "lst=[1,2,3,4,5,6,7,8,9,10]\n",
    "string_tuple=tuple(map(lambda x:str(x),lst))\n",
    "print(string_tuple)"
   ]
  },
  {
   "cell_type": "markdown",
   "metadata": {},
   "source": [
    "Q4.  Write a python program using reduce function to compute the product of a list containing numbers  from 1 to 25.\n",
    " \n",
    " ans:here is the phython program to compute the product of a list containing numbers from one to twenty five :\n",
    " "
   ]
  },
  {
   "cell_type": "code",
   "execution_count": 12,
   "metadata": {},
   "outputs": [
    {
     "name": "stdout",
     "output_type": "stream",
     "text": [
      "15511210043330985984000000\n"
     ]
    }
   ],
   "source": [
    "from functools import reduce\n",
    "lst=[i for i in range(1,26)]\n",
    "product=reduce(lambda x, y:x * y,lst)\n",
    "print(product)"
   ]
  },
  {
   "cell_type": "code",
   "execution_count": null,
   "metadata": {},
   "outputs": [],
   "source": [
    "Q5. Write a python program to filter the numbers in a given list that are divisible by 2 and 3 using the  filter function. \n",
    "[2, 3, 6, 9, 27, 60, 90, 120, 55, 46] \n",
    " \n",
    "    ans : above programe is given below :"
   ]
  },
  {
   "cell_type": "code",
   "execution_count": 13,
   "metadata": {},
   "outputs": [
    {
     "name": "stdout",
     "output_type": "stream",
     "text": [
      "[6, 60, 90, 120]\n"
     ]
    }
   ],
   "source": [
    "numbers=[2,3,6,9,27,60,90,120,55,46]\n",
    "result=list(filter(lambda x : (x % 2 ==0 and x%3==0),numbers))\n",
    "print(result)"
   ]
  },
  {
   "cell_type": "code",
   "execution_count": null,
   "metadata": {},
   "outputs": [],
   "source": [
    "Q6. Write a python program to find palindromes in the given list of strings using lambda and filter  function. \n",
    "['python', 'php', 'aba', 'radar', 'level']\n",
    "\n",
    "ans: here is an exmple :"
   ]
  },
  {
   "cell_type": "code",
   "execution_count": 1,
   "metadata": {},
   "outputs": [
    {
     "name": "stdout",
     "output_type": "stream",
     "text": [
      "['php', 'abba', 'radar', 'level']\n"
     ]
    }
   ],
   "source": [
    "string=[\"phython\",\"php\",\"abba\",\"radar\",\"level\"]\n",
    "result=list(filter(lambda x:(x==x[::-1]), string))\n",
    "print(result)"
   ]
  },
  {
   "cell_type": "code",
   "execution_count": null,
   "metadata": {},
   "outputs": [],
   "source": []
  }
 ],
 "metadata": {
  "kernelspec": {
   "display_name": "Python 3",
   "language": "python",
   "name": "python3"
  },
  "language_info": {
   "codemirror_mode": {
    "name": "ipython",
    "version": 3
   },
   "file_extension": ".py",
   "mimetype": "text/x-python",
   "name": "python",
   "nbconvert_exporter": "python",
   "pygments_lexer": "ipython3",
   "version": "3.7.0"
  }
 },
 "nbformat": 4,
 "nbformat_minor": 2
}
